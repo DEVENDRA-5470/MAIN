{
 "cells": [
  {
   "cell_type": "code",
   "execution_count": null,
   "id": "dfd9d706-5272-405d-9d12-666f3f755305",
   "metadata": {},
   "outputs": [],
   "source": [
    "# Hirerchial Inharitance :=================================================================================================="
   ]
  },
  {
   "cell_type": "code",
   "execution_count": 1,
   "id": "64728ec1-8d0c-4ee4-ae23-923052e79e97",
   "metadata": {},
   "outputs": [
    {
     "name": "stdin",
     "output_type": "stream",
     "text": [
      "\n",
      "        Connect with mobile data press : 1 \n",
      "        Connect with WiFi press : 2\n",
      "        Enter your choice:  2\n"
     ]
    },
    {
     "name": "stdout",
     "output_type": "stream",
     "text": [
      "Connecting to WiFi network 'HomeWiFi'\n",
      "\n",
      "        Device Detail \n",
      "        -------------\n",
      "        Brand: Apple \n",
      "        Model: iPhone 14 \n",
      "        OS: iOS 16\n",
      "        Connected With: Connecting to WiFi network 'HomeWiFi'\n"
     ]
    }
   ],
   "source": [
    "class Device:\n",
    "    def __init__(self, brand, model):\n",
    "        self.brand = brand\n",
    "        self.model = model\n",
    "\n",
    "    def get_device_info(self):\n",
    "        return f\"{self.brand} {self.model}\"\n",
    "\n",
    "\n",
    "class NetworkEnabled(Device):\n",
    "    def __init__(self, brand, model, ip_address):\n",
    "        super().__init__(brand, model)\n",
    "        self.ip_address = ip_address\n",
    "\n",
    "    def connect(self):\n",
    "        return f\"Connecting to network at {self.ip_address}\"\n",
    "\n",
    "\n",
    "class WiFiEnabled(Device):\n",
    "    def __init__(self, brand, model, wifi_ssid):\n",
    "        super().__init__(brand, model)\n",
    "        self.wifi_ssid = wifi_ssid\n",
    "\n",
    "    def connect(self):\n",
    "        return f\"Connecting to WiFi network '{self.wifi_ssid}'\"\n",
    "\n",
    "\n",
    "class Smartphone(Device):\n",
    "    def __init__(self, brand, model, os):\n",
    "        super().__init__(brand, model)\n",
    "        self.os = os\n",
    "        self.connected = \"\"\n",
    "\n",
    "    def connect(self):\n",
    "        c = input(\"\"\"\n",
    "        Connect with mobile data press : 1 \n",
    "        Connect with WiFi press : 2\n",
    "        Enter your choice: \"\"\")\n",
    "        \n",
    "        if c == \"1\":\n",
    "            network_enabled = NetworkEnabled(self.brand, self.model, \"192.168.1.1\")\n",
    "            self.connected = network_enabled.connect()\n",
    "        elif c == \"2\":\n",
    "            wifi_enabled = WiFiEnabled(self.brand, self.model, \"HomeWiFi\")\n",
    "            self.connected = wifi_enabled.connect()\n",
    "        else:\n",
    "            self.connected = \"Invalid choice. No connection made.\"\n",
    "\n",
    "        return self.connected\n",
    "\n",
    "    def get_device_info(self):\n",
    "        return f\"\"\"\n",
    "        Device Detail \n",
    "        -------------\n",
    "        Brand: {self.brand} \n",
    "        Model: {self.model} \n",
    "        OS: {self.os}\n",
    "        Connected With: {self.connected}\"\"\"\n",
    "\n",
    "\n",
    "# Creating an instance of Smartphone\n",
    "phone = Smartphone(\"Apple\", \"iPhone 14\", \"iOS 16\")\n",
    "\n",
    "# Using the methods of Smartphone\n",
    "print(phone.connect())\n",
    "print(phone.get_device_info())\n"
   ]
  }
 ],
 "metadata": {
  "kernelspec": {
   "display_name": "Python 3 (ipykernel)",
   "language": "python",
   "name": "python3"
  },
  "language_info": {
   "codemirror_mode": {
    "name": "ipython",
    "version": 3
   },
   "file_extension": ".py",
   "mimetype": "text/x-python",
   "name": "python",
   "nbconvert_exporter": "python",
   "pygments_lexer": "ipython3",
   "version": "3.9.13"
  }
 },
 "nbformat": 4,
 "nbformat_minor": 5
}
