{
 "cells": [
  {
   "cell_type": "code",
   "execution_count": null,
   "id": "01acace4-223d-4101-b818-449087fb20d6",
   "metadata": {},
   "outputs": [],
   "source": [
    "# Multiple Inheritance--------------------------------------------------------------------------------------------------------"
   ]
  },
  {
   "cell_type": "code",
   "execution_count": 37,
   "id": "c7491583-03a7-4a32-b32f-6865c3558468",
   "metadata": {},
   "outputs": [
    {
     "name": "stdin",
     "output_type": "stream",
     "text": [
      "\n",
      "        Connect with mob data press :1 \n",
      "        Connect With Wifi press : 2 2\n"
     ]
    },
    {
     "name": "stdout",
     "output_type": "stream",
     "text": [
      "Connected to WiFi network 'HomeWiFi'\n",
      "\n",
      "        Device Detail \n",
      "        -------------\n",
      "        Apple \n",
      "        iPhone 14 \n",
      "        running iOS 16\n",
      "        Connected With :Connected to WiFi network 'HomeWiFi'\n"
     ]
    }
   ],
   "source": [
    "class Device:\n",
    "    def __init__(self, brand, model):\n",
    "        self.brand = brand\n",
    "        self.model = model\n",
    "\n",
    "    def get_device_info(self):\n",
    "        return f\"{self.brand} {self.model}\"\n",
    "\n",
    "class NetworkEnabled:\n",
    "    def __init__(self, ip_address):\n",
    "        self.ip_address = ip_address\n",
    "\n",
    "    def connect_to_data(self):\n",
    "        return f\"Connected to network at {self.ip_address}\"\n",
    "\n",
    "class WiFiEnabled:\n",
    "    \n",
    "    def __init__(self, wifi_ssid):\n",
    "        self.wifi_ssid = wifi_ssid\n",
    "\n",
    "    def connect_to_wifi(self):\n",
    "        return f\"Connected to WiFi network '{self.wifi_ssid}'\"\n",
    "\n",
    "class Smartphone(Device, NetworkEnabled, WiFiEnabled):\n",
    "    def __init__(self, brand, model, ip_address, wifi_ssid, os):\n",
    "        Device.__init__(self, brand, model)\n",
    "        NetworkEnabled.__init__(self, ip_address)\n",
    "        WiFiEnabled.__init__(self, wifi_ssid)\n",
    "        self.os = os\n",
    "        self.connected=\"\"\n",
    "\n",
    "    def connect(self):\n",
    "        c=input(\"\"\"\n",
    "        Connect with mob data press :1 \n",
    "        Connect With Wifi press : 2\"\"\")\n",
    "        \n",
    "        if c==\"1\":\n",
    "            connection=NetworkEnabled.connect_to_data(self)\n",
    "            self.connected=connection\n",
    "        elif c==\"2\":\n",
    "            connection=WiFiEnabled.connect_to_wifi(self)\n",
    "            self.connected=connection\n",
    "        return self.connected\n",
    "            \n",
    "\n",
    "    def get_device_info(self):\n",
    "        return f\"\"\"\n",
    "        Device Detail \n",
    "        -------------\n",
    "        {self.brand} \n",
    "        {self.model} \n",
    "        running {self.os}\n",
    "        Connected With :{self.connected}\"\"\"\n",
    "\n",
    "# Creating an instance of Smartphone\n",
    "phone = Smartphone(\"Apple\", \"iPhone 14\", \"192.168.1.1\", \"HomeWiFi\", \"iOS 16\")\n",
    "\n",
    "print(phone.connect())\n",
    "print(phone.get_device_info())    \n",
    "\n",
    "\n"
   ]
  },
  {
   "cell_type": "code",
   "execution_count": null,
   "id": "2f6e1d19-f933-4766-9c3a-e440922d680e",
   "metadata": {},
   "outputs": [],
   "source": []
  }
 ],
 "metadata": {
  "kernelspec": {
   "display_name": "Python 3 (ipykernel)",
   "language": "python",
   "name": "python3"
  },
  "language_info": {
   "codemirror_mode": {
    "name": "ipython",
    "version": 3
   },
   "file_extension": ".py",
   "mimetype": "text/x-python",
   "name": "python",
   "nbconvert_exporter": "python",
   "pygments_lexer": "ipython3",
   "version": "3.9.13"
  }
 },
 "nbformat": 4,
 "nbformat_minor": 5
}
