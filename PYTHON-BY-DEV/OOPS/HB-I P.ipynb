{
 "cells": [
  {
   "cell_type": "code",
   "execution_count": null,
   "id": "9d166a48-ceb4-428b-a864-dfa7f0fb24e7",
   "metadata": {},
   "outputs": [],
   "source": [
    "# Hybrid Inhertance :=========================================================================================================="
   ]
  },
  {
   "cell_type": "code",
   "execution_count": 33,
   "id": "63371e94-8205-4acb-9f33-53043b45a7a1",
   "metadata": {},
   "outputs": [
    {
     "ename": "TypeError",
     "evalue": "__init__() missing 1 required positional argument: 'ip_address'",
     "output_type": "error",
     "traceback": [
      "\u001b[1;31m---------------------------------------------------------------------------\u001b[0m",
      "\u001b[1;31mTypeError\u001b[0m                                 Traceback (most recent call last)",
      "Cell \u001b[1;32mIn[33], line 73\u001b[0m\n\u001b[0;32m     62\u001b[0m         \u001b[38;5;28;01mreturn\u001b[39;00m \u001b[38;5;124mf\u001b[39m\u001b[38;5;124m\"\"\"\u001b[39m\n\u001b[0;32m     63\u001b[0m \u001b[38;5;124m        Device Detail \u001b[39m\n\u001b[0;32m     64\u001b[0m \u001b[38;5;124m        -------------\u001b[39m\n\u001b[1;32m   (...)\u001b[0m\n\u001b[0;32m     68\u001b[0m \u001b[38;5;124m        Connected With: \u001b[39m\u001b[38;5;132;01m{\u001b[39;00m\u001b[38;5;28mself\u001b[39m\u001b[38;5;241m.\u001b[39mconnected\u001b[38;5;132;01m}\u001b[39;00m\n\u001b[0;32m     69\u001b[0m \u001b[38;5;124m        \u001b[39m\u001b[38;5;124m\"\"\"\u001b[39m\n\u001b[0;32m     72\u001b[0m \u001b[38;5;66;03m# Creating an instance of Smartphone\u001b[39;00m\n\u001b[1;32m---> 73\u001b[0m phone \u001b[38;5;241m=\u001b[39m \u001b[43mSmartphone\u001b[49m\u001b[43m(\u001b[49m\u001b[38;5;124;43m\"\u001b[39;49m\u001b[38;5;124;43mApple\u001b[39;49m\u001b[38;5;124;43m\"\u001b[39;49m\u001b[43m,\u001b[49m\u001b[43m \u001b[49m\u001b[38;5;124;43m\"\u001b[39;49m\u001b[38;5;124;43miPhone 14\u001b[39;49m\u001b[38;5;124;43m\"\u001b[39;49m\u001b[43m,\u001b[49m\u001b[43m \u001b[49m\u001b[38;5;124;43m\"\u001b[39;49m\u001b[38;5;124;43m192.168.1.1\u001b[39;49m\u001b[38;5;124;43m\"\u001b[39;49m\u001b[43m,\u001b[49m\u001b[43m \u001b[49m\u001b[38;5;124;43m\"\u001b[39;49m\u001b[38;5;124;43mHomeWiFi\u001b[39;49m\u001b[38;5;124;43m\"\u001b[39;49m\u001b[43m,\u001b[49m\u001b[43m \u001b[49m\u001b[38;5;124;43m\"\u001b[39;49m\u001b[38;5;124;43miOS 16\u001b[39;49m\u001b[38;5;124;43m\"\u001b[39;49m\u001b[43m)\u001b[49m\n\u001b[0;32m     75\u001b[0m \u001b[38;5;66;03m# Using the methods of Smartphone\u001b[39;00m\n\u001b[0;32m     76\u001b[0m \u001b[38;5;28mprint\u001b[39m(phone\u001b[38;5;241m.\u001b[39mconnect())\n",
      "Cell \u001b[1;32mIn[33], line 30\u001b[0m, in \u001b[0;36mSmartphone.__init__\u001b[1;34m(self, brand, model, ip_address, wifi_ssid, os)\u001b[0m\n\u001b[0;32m     29\u001b[0m \u001b[38;5;28;01mdef\u001b[39;00m \u001b[38;5;21m__init__\u001b[39m(\u001b[38;5;28mself\u001b[39m, brand, model, ip_address, wifi_ssid, os):\n\u001b[1;32m---> 30\u001b[0m     \u001b[38;5;28;43msuper\u001b[39;49m\u001b[43m(\u001b[49m\u001b[43m)\u001b[49m\u001b[38;5;241;43m.\u001b[39;49m\u001b[38;5;21;43m__init__\u001b[39;49m\u001b[43m(\u001b[49m\u001b[43mbrand\u001b[49m\u001b[43m,\u001b[49m\u001b[43m \u001b[49m\u001b[43mmodel\u001b[49m\u001b[43m)\u001b[49m\n\u001b[0;32m     31\u001b[0m     \u001b[38;5;28mself\u001b[39m\u001b[38;5;241m.\u001b[39mos \u001b[38;5;241m=\u001b[39m os\n\u001b[0;32m     32\u001b[0m     \u001b[38;5;28mself\u001b[39m\u001b[38;5;241m.\u001b[39mconnected \u001b[38;5;241m=\u001b[39m \u001b[38;5;124m\"\u001b[39m\u001b[38;5;124m\"\u001b[39m\n",
      "\u001b[1;31mTypeError\u001b[0m: __init__() missing 1 required positional argument: 'ip_address'"
     ]
    }
   ],
   "source": [
    "class Device:\n",
    "    def __init__(self, brand, model):\n",
    "        self.brand = brand\n",
    "        self.model = model\n",
    "\n",
    "    def get_device_info(self):\n",
    "        return f\"{self.brand} {self.model}\"\n",
    "\n",
    "\n",
    "class NetworkEnabled(Device):\n",
    "    def __init__(self, brand, model, ip_address):\n",
    "        super().__init__(brand, model)\n",
    "        self.ip_address = ip_address\n",
    "\n",
    "    def connect(self):\n",
    "        return f\"Connecting to network at {self.ip_address}\"\n",
    "\n",
    "\n",
    "class WiFiEnabled(Device):\n",
    "    def __init__(self, brand, model, wifi_ssid):\n",
    "        super().__init__(brand, model)\n",
    "        self.wifi_ssid = wifi_ssid\n",
    "\n",
    "    def connect(self):\n",
    "        return f\"Connecting to WiFi network '{self.wifi_ssid}'\"\n",
    "\n",
    "\n",
    "class Smartphone(NetworkEnabled,WiFiEnabled):\n",
    "    def __init__(self, brand, model, ip_address, wifi_ssid, os):\n",
    "        super().__init__(brand, model)\n",
    "        self.os = os\n",
    "        self.connected = \"\"\n",
    "\n",
    "        if ip_address:\n",
    "            self.network_enabled = NetworkEnabled(brand, model, ip_address)\n",
    "        else:\n",
    "            self.network_enabled = None\n",
    "\n",
    "        if wifi_ssid:\n",
    "            self.wifi_enabled = WiFiEnabled(brand, model, wifi_ssid)\n",
    "        else:\n",
    "            self.wifi_enabled = None\n",
    "\n",
    "    def connect(self):\n",
    "        c = input(\"\"\"\n",
    "        Connect with mobile data, press 1 \n",
    "        Connect with WiFi, press 2\n",
    "        Enter your choice: \"\"\")\n",
    "        \n",
    "        if c == \"1\" :\n",
    "            self.connected = self.network_enabled.connect()\n",
    "        elif c == \"2\" :\n",
    "            self.connected = self.wifi_enabled.connect()\n",
    "        else:\n",
    "            self.connected = \"Invalid choice. No connection made.\"\n",
    "\n",
    "        return self.connected\n",
    "\n",
    "    def get_device_info(self):\n",
    "  \n",
    "\n",
    "        return f\"\"\"\n",
    "        Device Detail \n",
    "        -------------\n",
    "        Brand: {self.brand} \n",
    "        Model: {self.model} \n",
    "        OS: {self.os}\n",
    "        Connected With: {self.connected}\n",
    "        \"\"\"\n",
    "\n",
    "\n",
    "# Creating an instance of Smartphone\n",
    "phone = Smartphone(\"Apple\", \"iPhone 14\", \"192.168.1.1\", \"HomeWiFi\", \"iOS 16\")\n",
    "\n",
    "# Using the methods of Smartphone\n",
    "print(phone.connect())\n",
    "print(phone.get_device_info())\n"
   ]
  },
  {
   "cell_type": "code",
   "execution_count": null,
   "id": "8a730f63-522c-492a-b01c-d0cdf39c38a1",
   "metadata": {},
   "outputs": [],
   "source": []
  }
 ],
 "metadata": {
  "kernelspec": {
   "display_name": "Python 3 (ipykernel)",
   "language": "python",
   "name": "python3"
  },
  "language_info": {
   "codemirror_mode": {
    "name": "ipython",
    "version": 3
   },
   "file_extension": ".py",
   "mimetype": "text/x-python",
   "name": "python",
   "nbconvert_exporter": "python",
   "pygments_lexer": "ipython3",
   "version": "3.9.13"
  }
 },
 "nbformat": 4,
 "nbformat_minor": 5
}
