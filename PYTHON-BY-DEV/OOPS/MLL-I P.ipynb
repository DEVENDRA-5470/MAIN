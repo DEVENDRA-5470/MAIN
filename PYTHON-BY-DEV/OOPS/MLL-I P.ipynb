{
 "cells": [
  {
   "cell_type": "code",
   "execution_count": null,
   "id": "ad5bfcfc-9d57-4b3a-aade-37cc9ee98f79",
   "metadata": {},
   "outputs": [],
   "source": [
    "# Muiltilevel Inheritance :=============================================================================================================="
   ]
  },
  {
   "cell_type": "code",
   "execution_count": 9,
   "id": "aaea576c-6c6d-4888-bd31-e987ff477d9f",
   "metadata": {},
   "outputs": [
    {
     "name": "stdin",
     "output_type": "stream",
     "text": [
      "\n",
      "        Connect with mob data press :1 \n",
      "        Connect With Wifi press : 2 2\n"
     ]
    },
    {
     "name": "stdout",
     "output_type": "stream",
     "text": [
      "Connecting to WiFi network 'HomeWiFi'\n",
      "\n",
      "            Device Detail \n",
      "            -------------\n",
      "            Apple \n",
      "            iPhone 14 \n",
      "            running iOS 16\n",
      "            Connected With :Connecting to WiFi network 'HomeWiFi'\n"
     ]
    }
   ],
   "source": [
    "class Device:\n",
    "    def __init__(self, brand, model):\n",
    "        self.brand = brand\n",
    "        self.model = model\n",
    "\n",
    "    def get_device_info(self):\n",
    "        return f\"{self.brand} {self.model}\"\n",
    "\n",
    "class NetworkEnabled(Device):\n",
    "    def __init__(self, brand, model, ip_address):\n",
    "        super().__init__(brand, model)\n",
    "        self.ip_address = ip_address\n",
    "\n",
    "    def connect(self):\n",
    "        return f\"Connecting to network at {self.ip_address}\"\n",
    "\n",
    "class WiFiEnabled(NetworkEnabled):\n",
    "    def __init__(self, brand, model, ip_address, wifi_ssid):\n",
    "        super().__init__(brand, model, ip_address)\n",
    "        self.wifi_ssid = wifi_ssid\n",
    "\n",
    "    def connect_to_wifi(self):\n",
    "        return f\"Connecting to WiFi network '{self.wifi_ssid}'\"\n",
    "\n",
    "class Smartphone(WiFiEnabled):\n",
    "    def __init__(self, brand, model, ip_address, wifi_ssid, os):\n",
    "        super().__init__(brand, model, ip_address, wifi_ssid)\n",
    "        self.os = os\n",
    "        self.connected=\"\"\n",
    "\n",
    "    def connect(self):\n",
    "        c=input(\"\"\"\n",
    "        Connect with mob data press : 1 \n",
    "        Connect With Wifi press : 2\"\"\")\n",
    "        \n",
    "        if c==\"1\":\n",
    "            connection=NetworkEnabled.connect_to_data(self)\n",
    "            self.connected=connection\n",
    "        elif c==\"2\":\n",
    "            connection=WiFiEnabled.connect_to_wifi(self)\n",
    "            self.connected=connection\n",
    "        return self.connected\n",
    "\n",
    "    def get_device_info(self):\n",
    "        return f\"\"\"\n",
    "            Device Detail \n",
    "            -------------\n",
    "            {self.brand} \n",
    "            {self.model} \n",
    "            running {self.os}\n",
    "            Connected With :{self.connected}\"\"\"\n",
    "\n",
    "# Creating an instance of Smartphone\n",
    "phone = Smartphone(\"Apple\", \"iPhone 14\", \"192.168.1.1\", \"HomeWiFi\", \"iOS 16\")\n",
    "\n",
    "print(phone.connect())\n",
    "print(phone.get_device_info())    # Output: Apple iPhone 14 running iOS 16\n",
    "       # Output: Connecting to network at 192.168.1.1\n",
    "\n"
   ]
  }
 ],
 "metadata": {
  "kernelspec": {
   "display_name": "Python 3 (ipykernel)",
   "language": "python",
   "name": "python3"
  },
  "language_info": {
   "codemirror_mode": {
    "name": "ipython",
    "version": 3
   },
   "file_extension": ".py",
   "mimetype": "text/x-python",
   "name": "python",
   "nbconvert_exporter": "python",
   "pygments_lexer": "ipython3",
   "version": "3.9.13"
  }
 },
 "nbformat": 4,
 "nbformat_minor": 5
}
